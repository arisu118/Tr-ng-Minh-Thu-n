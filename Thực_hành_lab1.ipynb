{
  "nbformat": 4,
  "nbformat_minor": 0,
  "metadata": {
    "colab": {
      "provenance": [],
      "authorship_tag": "ABX9TyMuiIpLQQ9e0qnkag7Qu5Tk",
      "include_colab_link": true
    },
    "kernelspec": {
      "name": "python3",
      "display_name": "Python 3"
    },
    "language_info": {
      "name": "python"
    }
  },
  "cells": [
    {
      "cell_type": "markdown",
      "metadata": {
        "id": "view-in-github",
        "colab_type": "text"
      },
      "source": [
        "<a href=\"https://colab.research.google.com/github/arisu118/Tr-ng-Minh-Thu-n/blob/main/Th%E1%BB%B1c_h%C3%A0nh_lab1.ipynb\" target=\"_parent\"><img src=\"https://colab.research.google.com/assets/colab-badge.svg\" alt=\"Open In Colab\"/></a>"
      ]
    },
    {
      "cell_type": "markdown",
      "source": [
        "Trương Minh THuận - 23150010 - ca 1 - ngày 2/7/2025"
      ],
      "metadata": {
        "id": "hoUOvJo8gV0W"
      }
    },
    {
      "cell_type": "code",
      "execution_count": 27,
      "metadata": {
        "colab": {
          "base_uri": "https://localhost:8080/"
        },
        "id": "8Ozpa4ZHfPIs",
        "outputId": "3c6f4f6b-30e7-495c-c7d1-64dc375d77d3"
      },
      "outputs": [
        {
          "output_type": "stream",
          "name": "stdout",
          "text": [
            "Requirement already satisfied: pandas in /usr/local/lib/python3.11/dist-packages (2.2.2)\n",
            "Requirement already satisfied: numpy>=1.23.2 in /usr/local/lib/python3.11/dist-packages (from pandas) (2.0.2)\n",
            "Requirement already satisfied: python-dateutil>=2.8.2 in /usr/local/lib/python3.11/dist-packages (from pandas) (2.9.0.post0)\n",
            "Requirement already satisfied: pytz>=2020.1 in /usr/local/lib/python3.11/dist-packages (from pandas) (2025.2)\n",
            "Requirement already satisfied: tzdata>=2022.7 in /usr/local/lib/python3.11/dist-packages (from pandas) (2025.2)\n",
            "Requirement already satisfied: six>=1.5 in /usr/local/lib/python3.11/dist-packages (from python-dateutil>=2.8.2->pandas) (1.17.0)\n",
            "Series ban đầu:\n",
            "0    20\n",
            "1    25\n",
            "2    30\n",
            "3    35\n",
            "dtype: int64\n"
          ]
        }
      ],
      "source": [
        "%pip install pandas\n",
        "\n",
        "import pandas as pd\n",
        "\n",
        "tuoi = [20, 25, 30, 35]\n",
        "series = pd.Series(tuoi)\n",
        "\n",
        "print(\"Series ban đầu:\")\n",
        "print(series)"
      ]
    },
    {
      "cell_type": "code",
      "source": [
        "# 2. Truy cập dữ liệu\n",
        "# Lấy giá trị tại chi mục 2\n",
        "value = series [2]\n",
        "print (\"\\nGiá trị tại chi mục 2:\", value)"
      ],
      "metadata": {
        "colab": {
          "base_uri": "https://localhost:8080/"
        },
        "id": "QjlJS8_rhmm9",
        "outputId": "38475613-4fb6-46ae-9d16-373d656178d4"
      },
      "execution_count": 28,
      "outputs": [
        {
          "output_type": "stream",
          "name": "stdout",
          "text": [
            "\n",
            "Giá trị tại chi mục 2: 30\n"
          ]
        }
      ]
    },
    {
      "cell_type": "code",
      "source": [
        "# 3. Thống kê mô tả\n",
        "print(\"\\nThống kê mô tả:\")\n",
        "print(series.describe())"
      ],
      "metadata": {
        "id": "_f_wNVKtiDOt",
        "colab": {
          "base_uri": "https://localhost:8080/"
        },
        "outputId": "c393ec4c-ef0e-43b4-d23f-48e0ded01208"
      },
      "execution_count": 29,
      "outputs": [
        {
          "output_type": "stream",
          "name": "stdout",
          "text": [
            "\n",
            "Thống kê mô tả:\n",
            "count     4.000000\n",
            "mean     27.500000\n",
            "std       6.454972\n",
            "min      20.000000\n",
            "25%      23.750000\n",
            "50%      27.500000\n",
            "75%      31.250000\n",
            "max      35.000000\n",
            "dtype: float64\n"
          ]
        }
      ]
    },
    {
      "cell_type": "code",
      "source": [
        "# 4. Thao tác dữ liệu\n",
        "# Cộng 5 vào mỗi phần tử trong Series\n",
        "new_series = series + 5\n",
        "print(\"\\nSeries sau khi cộng 5 vào mỗi phần tử:\")\n",
        "print(new_series)"
      ],
      "metadata": {
        "colab": {
          "base_uri": "https://localhost:8080/"
        },
        "id": "fiuqjLIjiMPH",
        "outputId": "8fbf0ced-f763-486c-f9a9-1f22b61e32d4"
      },
      "execution_count": 30,
      "outputs": [
        {
          "output_type": "stream",
          "name": "stdout",
          "text": [
            "\n",
            "Series sau khi cộng 5 vào mỗi phần tử:\n",
            "0    25\n",
            "1    30\n",
            "2    35\n",
            "3    40\n",
            "dtype: int64\n"
          ]
        }
      ]
    },
    {
      "cell_type": "code",
      "source": [
        "# 5. Khởi tạo DataFrame\n",
        "data = {\n",
        " 'Tên' : ['An', 'Hà', 'Trung', 'Dũng'],\n",
        " 'Tuổi' : [20, 25, 30, 35],\n",
        " 'Thành phố': ['Hà Nội', 'TP HCM', 'Nha Trang', 'Huế']\n",
        "}\n",
        "df = pd.DataFrame(data)"
      ],
      "metadata": {
        "id": "x5OMTh_uifA5"
      },
      "execution_count": 31,
      "outputs": []
    },
    {
      "cell_type": "code",
      "source": [
        "# 6. In dữ liệu trên\n",
        "print(\"DataFrame ban đầu:\")\n",
        "print(df)"
      ],
      "metadata": {
        "colab": {
          "base_uri": "https://localhost:8080/"
        },
        "id": "2x91s8R4jThX",
        "outputId": "1c0e44f6-e0f4-45ba-c14d-d69125822c38"
      },
      "execution_count": 32,
      "outputs": [
        {
          "output_type": "stream",
          "name": "stdout",
          "text": [
            "DataFrame ban đầu:\n",
            "     Tên  Tuổi  Thành phố\n",
            "0     An    20     Hà Nội\n",
            "1     Hà    25     TP HCM\n",
            "2  Trung    30  Nha Trang\n",
            "3   Dũng    35        Huế\n"
          ]
        }
      ]
    },
    {
      "cell_type": "code",
      "source": [
        "# 7. In cột tên\n",
        "print(\"\\nCột 'Tên':\")\n",
        "print(df['Tên'])"
      ],
      "metadata": {
        "colab": {
          "base_uri": "https://localhost:8080/"
        },
        "id": "RPI5D_qGjgTi",
        "outputId": "ca00c07f-17ab-4b5c-95cb-d949aeef2692"
      },
      "execution_count": 33,
      "outputs": [
        {
          "output_type": "stream",
          "name": "stdout",
          "text": [
            "\n",
            "Cột 'Tên':\n",
            "0       An\n",
            "1       Hà\n",
            "2    Trung\n",
            "3     Dũng\n",
            "Name: Tên, dtype: object\n"
          ]
        }
      ]
    },
    {
      "cell_type": "code",
      "source": [
        "# 8. Truy cập hành thứ 2(sử dụng 1loc)\n",
        "print(\"\\nHàng thứ 2:\")\n",
        "print(df.loc[1])"
      ],
      "metadata": {
        "colab": {
          "base_uri": "https://localhost:8080/"
        },
        "id": "d_eL1YxXlPsm",
        "outputId": "c34ef8ca-b0c4-484a-a62a-bebd53ddc8ad"
      },
      "execution_count": 34,
      "outputs": [
        {
          "output_type": "stream",
          "name": "stdout",
          "text": [
            "\n",
            "Hàng thứ 2:\n",
            "Tên              Hà\n",
            "Tuổi             25\n",
            "Thành phố    TP HCM\n",
            "Name: 1, dtype: object\n"
          ]
        }
      ]
    },
    {
      "cell_type": "code",
      "source": [
        "# 9. Thêm cột 'Nghề nghiệp'\n",
        "df['Nghề nghiệp'] = ['Giáo viên', 'Kỹ sư', 'Kinh doanh', 'Bác sĩ']\n",
        "print(\"\\nDataFrame sau khi thêm cột 'Nghề nghiệp':\")\n",
        "print(df)"
      ],
      "metadata": {
        "colab": {
          "base_uri": "https://localhost:8080/"
        },
        "id": "mNq0s-_4lcoj",
        "outputId": "3fe0c00d-62ab-4418-c285-5f9bdbf19e14"
      },
      "execution_count": 35,
      "outputs": [
        {
          "output_type": "stream",
          "name": "stdout",
          "text": [
            "\n",
            "DataFrame sau khi thêm cột 'Nghề nghiệp':\n",
            "     Tên  Tuổi  Thành phố Nghề nghiệp\n",
            "0     An    20     Hà Nội   Giáo viên\n",
            "1     Hà    25     TP HCM       Kỹ sư\n",
            "2  Trung    30  Nha Trang  Kinh doanh\n",
            "3   Dũng    35        Huế      Bác sĩ\n"
          ]
        }
      ]
    },
    {
      "cell_type": "code",
      "source": [
        "# 10. Xóa cột 'Nghề nghiệp'\n",
        "# drop là xóa\n",
        "# axis = 1 là cột, axis = 0 là hàng\n",
        "# inplace=true update dữ liệu gốc\n",
        "df.drop('Nghề nghiệp', axis=1, inplace=True)\n",
        "print(\"\\nDataFrame sau khi xóa cột 'Nghề nghiệp':\")\n",
        "print(df)"
      ],
      "metadata": {
        "colab": {
          "base_uri": "https://localhost:8080/"
        },
        "id": "sh4qbZxHmJFO",
        "outputId": "a6998845-d349-4e2f-ce09-206dcd325189"
      },
      "execution_count": 36,
      "outputs": [
        {
          "output_type": "stream",
          "name": "stdout",
          "text": [
            "\n",
            "DataFrame sau khi xóa cột 'Nghề nghiệp':\n",
            "     Tên  Tuổi  Thành phố\n",
            "0     An    20     Hà Nội\n",
            "1     Hà    25     TP HCM\n",
            "2  Trung    30  Nha Trang\n",
            "3   Dũng    35        Huế\n"
          ]
        }
      ]
    },
    {
      "cell_type": "code",
      "source": [
        "# 11. Sắp xếp theo 'Tuổi'\n",
        "Sorted_df = df.sort_values(by='Tuổi')\n",
        "print(\"\\nDataFrame sau khi sắp xếp theo 'Tuổi':\")\n",
        "print(Sorted_df)"
      ],
      "metadata": {
        "colab": {
          "base_uri": "https://localhost:8080/"
        },
        "id": "ikXtlLfEnSzr",
        "outputId": "473ee3b6-6729-4b54-d901-b48d8835b846"
      },
      "execution_count": 37,
      "outputs": [
        {
          "output_type": "stream",
          "name": "stdout",
          "text": [
            "\n",
            "DataFrame sau khi sắp xếp theo 'Tuổi':\n",
            "     Tên  Tuổi  Thành phố\n",
            "0     An    20     Hà Nội\n",
            "1     Hà    25     TP HCM\n",
            "2  Trung    30  Nha Trang\n",
            "3   Dũng    35        Huế\n"
          ]
        }
      ]
    },
    {
      "cell_type": "code",
      "source": [
        "# Lọc Những người có tuổi trên 25\n",
        "Filtered_df = df[df['Tuổi'] > 25]\n",
        "print(\"\\nDataFrame sau khi lọc những người có tuổi trên 25:\")\n",
        "print(Filtered_df)"
      ],
      "metadata": {
        "colab": {
          "base_uri": "https://localhost:8080/"
        },
        "id": "eX2ROEGdnfOc",
        "outputId": "7cd63f0a-f854-45bb-d7c1-35113bd1d2f6"
      },
      "execution_count": 38,
      "outputs": [
        {
          "output_type": "stream",
          "name": "stdout",
          "text": [
            "\n",
            "DataFrame sau khi lọc những người có tuổi trên 25:\n",
            "     Tên  Tuổi  Thành phố\n",
            "2  Trung    30  Nha Trang\n",
            "3   Dũng    35        Huế\n"
          ]
        }
      ]
    },
    {
      "cell_type": "code",
      "source": [
        "data = {\n",
        " 'Tên' : ['An', 'Hà', 'Trung', 'Dũng'],\n",
        " 'Tuổi' : [20, 25, 30, 35],\n",
        " 'Thành phố': ['Hà Nội', 'TP HCM', 'Nha Trang', 'Huế']\n",
        "}\n",
        "df = pd.DataFrame(data)\n",
        "\n",
        "# Chọn những người ở thành phố 'Nha Trang'\n",
        "filtered_df = df[df['Thành phố'] == 'Nha Trang']\n",
        "print(\"\\nNgười ở thành phố Nha Trang:\")\n",
        "print(filtered_df)"
      ],
      "metadata": {
        "colab": {
          "base_uri": "https://localhost:8080/"
        },
        "id": "0XSlY2cUnnqM",
        "outputId": "fece6747-887a-40e3-980e-88d613834dfc"
      },
      "execution_count": 39,
      "outputs": [
        {
          "output_type": "stream",
          "name": "stdout",
          "text": [
            "\n",
            "Người ở thành phố Nha Trang:\n",
            "     Tên  Tuổi  Thành phố\n",
            "2  Trung    30  Nha Trang\n"
          ]
        }
      ]
    },
    {
      "cell_type": "code",
      "source": [
        "# 14. Tạo một dictionary\n",
        "dict = {\n",
        "    'a': 100,\n",
        "    'b': 200,\n",
        "    'c': 300,\n",
        "    'd': 400\n",
        "}"
      ],
      "metadata": {
        "id": "wAbebjh4uhzK"
      },
      "execution_count": 40,
      "outputs": []
    },
    {
      "cell_type": "code",
      "source": [
        "# 15. Tạo series từ dictionary\n",
        "Series = pd.Series(dict)\n",
        "\n",
        "print(\"Series được tạo từ dictionary:\")\n",
        "print(Series)"
      ],
      "metadata": {
        "colab": {
          "base_uri": "https://localhost:8080/"
        },
        "id": "L-56uyF8zlZt",
        "outputId": "94f45273-4172-4f81-82ed-aba00b6a928d"
      },
      "execution_count": 45,
      "outputs": [
        {
          "output_type": "stream",
          "name": "stdout",
          "text": [
            "Series được tạo từ dictionary:\n",
            "a    100\n",
            "b    200\n",
            "c    300\n",
            "d    400\n",
            "dtype: int64\n"
          ]
        }
      ]
    },
    {
      "cell_type": "code",
      "source": [
        "# 16. Truy cập giá trị bằng chỉ mục, .Loc\n",
        "value_a = Series['a']\n",
        "print(\"Giá trị tại chỉ mục 'a':\", value_a)"
      ],
      "metadata": {
        "colab": {
          "base_uri": "https://localhost:8080/"
        },
        "id": "8urB-eQVc0yB",
        "outputId": "4a7c51dc-9561-4320-decf-ddf746eca712"
      },
      "execution_count": 48,
      "outputs": [
        {
          "output_type": "stream",
          "name": "stdout",
          "text": [
            "Giá trị tại chỉ mục 'a': 100\n"
          ]
        }
      ]
    },
    {
      "cell_type": "code",
      "source": [
        "# Sử dụng .Loc để truy cập\n",
        "value_b = Series.loc['a']\n",
        "print(\"Giá trị tại chỉ mục 'b' sử dụng .loc: \", value_b)"
      ],
      "metadata": {
        "colab": {
          "base_uri": "https://localhost:8080/"
        },
        "id": "14qig1-idytW",
        "outputId": "37e7ecd0-d824-41a3-e49d-4d802cc8dff4"
      },
      "execution_count": 49,
      "outputs": [
        {
          "output_type": "stream",
          "name": "stdout",
          "text": [
            "Giá trị tại chỉ mục 'b' sử dụng .loc:  100\n"
          ]
        }
      ]
    },
    {
      "cell_type": "code",
      "source": [
        "# sử dụng .iloc để truy cập theo vị trí số\n",
        "value_first = Series.iloc[0]\n",
        "print(\"Giá trị đầu tiên trong Series\", value_first)"
      ],
      "metadata": {
        "colab": {
          "base_uri": "https://localhost:8080/"
        },
        "id": "lnbyKOBwf8RF",
        "outputId": "288b21c2-9202-4af3-a939-4c927f006918"
      },
      "execution_count": 50,
      "outputs": [
        {
          "output_type": "stream",
          "name": "stdout",
          "text": [
            "Giá trị đầu tiên trong Series 100\n"
          ]
        }
      ]
    },
    {
      "cell_type": "code",
      "source": [
        "# Tạo DataFram từ List của Lists\n",
        "data = [\n",
        "    ['An', 20, 'Hà Nội'],\n",
        "    ['Hà', 25, 'TP HCM'],\n",
        "    ['Trung', 30, 'Nha Trang'],\n",
        "    ['Dũng', 35, 'Huế']\n",
        "]"
      ],
      "metadata": {
        "id": "aPCWwJPegPKe"
      },
      "execution_count": 51,
      "outputs": []
    },
    {
      "cell_type": "code",
      "source": [
        "columns = ['Tên', 'Tuổi', 'Thành phố']\n",
        "df = pd.DataFrame(data, columns=columns)"
      ],
      "metadata": {
        "id": "swcHugMbgcUz"
      },
      "execution_count": 52,
      "outputs": []
    },
    {
      "cell_type": "code",
      "source": [
        "print(\"DataFrame được tạo từ List của Lists:\")\n",
        "print(df)"
      ],
      "metadata": {
        "colab": {
          "base_uri": "https://localhost:8080/"
        },
        "id": "Xz1lD5YVgnmz",
        "outputId": "d64f79a5-70d7-48c8-9e40-773cc2b9efbf"
      },
      "execution_count": 53,
      "outputs": [
        {
          "output_type": "stream",
          "name": "stdout",
          "text": [
            "DataFrame được tạo từ List của Lists:\n",
            "     Tên  Tuổi  Thành phố\n",
            "0     An    20     Hà Nội\n",
            "1     Hà    25     TP HCM\n",
            "2  Trung    30  Nha Trang\n",
            "3   Dũng    35        Huế\n"
          ]
        }
      ]
    },
    {
      "cell_type": "code",
      "source": [
        "print(df['Tên'])"
      ],
      "metadata": {
        "colab": {
          "base_uri": "https://localhost:8080/"
        },
        "id": "jmizI1bxguwB",
        "outputId": "801db34e-2783-4c69-f7da-a8e9f77222a1"
      },
      "execution_count": 55,
      "outputs": [
        {
          "output_type": "stream",
          "name": "stdout",
          "text": [
            "0       An\n",
            "1       Hà\n",
            "2    Trung\n",
            "3     Dũng\n",
            "Name: Tên, dtype: object\n"
          ]
        }
      ]
    },
    {
      "cell_type": "code",
      "source": [
        "print(df.iloc[0])"
      ],
      "metadata": {
        "colab": {
          "base_uri": "https://localhost:8080/"
        },
        "id": "coNnmeX1g0ku",
        "outputId": "2b71e915-33e4-4c5e-cb3b-c161b44256b4"
      },
      "execution_count": 56,
      "outputs": [
        {
          "output_type": "stream",
          "name": "stdout",
          "text": [
            "Tên              An\n",
            "Tuổi             20\n",
            "Thành phố    Hà Nội\n",
            "Name: 0, dtype: object\n"
          ]
        }
      ]
    },
    {
      "cell_type": "code",
      "source": [
        "df.sort_values(by='Tuổi', ascending=True)"
      ],
      "metadata": {
        "colab": {
          "base_uri": "https://localhost:8080/",
          "height": 175
        },
        "id": "Bf3FlSZ5hBEW",
        "outputId": "cfb89bbe-73b6-4372-ced7-539fb820319c"
      },
      "execution_count": 57,
      "outputs": [
        {
          "output_type": "execute_result",
          "data": {
            "text/plain": [
              "     Tên  Tuổi  Thành phố\n",
              "0     An    20     Hà Nội\n",
              "1     Hà    25     TP HCM\n",
              "2  Trung    30  Nha Trang\n",
              "3   Dũng    35        Huế"
            ],
            "text/html": [
              "\n",
              "  <div id=\"df-b9f46bec-af7e-48c8-ac7d-26eedfea71dd\" class=\"colab-df-container\">\n",
              "    <div>\n",
              "<style scoped>\n",
              "    .dataframe tbody tr th:only-of-type {\n",
              "        vertical-align: middle;\n",
              "    }\n",
              "\n",
              "    .dataframe tbody tr th {\n",
              "        vertical-align: top;\n",
              "    }\n",
              "\n",
              "    .dataframe thead th {\n",
              "        text-align: right;\n",
              "    }\n",
              "</style>\n",
              "<table border=\"1\" class=\"dataframe\">\n",
              "  <thead>\n",
              "    <tr style=\"text-align: right;\">\n",
              "      <th></th>\n",
              "      <th>Tên</th>\n",
              "      <th>Tuổi</th>\n",
              "      <th>Thành phố</th>\n",
              "    </tr>\n",
              "  </thead>\n",
              "  <tbody>\n",
              "    <tr>\n",
              "      <th>0</th>\n",
              "      <td>An</td>\n",
              "      <td>20</td>\n",
              "      <td>Hà Nội</td>\n",
              "    </tr>\n",
              "    <tr>\n",
              "      <th>1</th>\n",
              "      <td>Hà</td>\n",
              "      <td>25</td>\n",
              "      <td>TP HCM</td>\n",
              "    </tr>\n",
              "    <tr>\n",
              "      <th>2</th>\n",
              "      <td>Trung</td>\n",
              "      <td>30</td>\n",
              "      <td>Nha Trang</td>\n",
              "    </tr>\n",
              "    <tr>\n",
              "      <th>3</th>\n",
              "      <td>Dũng</td>\n",
              "      <td>35</td>\n",
              "      <td>Huế</td>\n",
              "    </tr>\n",
              "  </tbody>\n",
              "</table>\n",
              "</div>\n",
              "    <div class=\"colab-df-buttons\">\n",
              "\n",
              "  <div class=\"colab-df-container\">\n",
              "    <button class=\"colab-df-convert\" onclick=\"convertToInteractive('df-b9f46bec-af7e-48c8-ac7d-26eedfea71dd')\"\n",
              "            title=\"Convert this dataframe to an interactive table.\"\n",
              "            style=\"display:none;\">\n",
              "\n",
              "  <svg xmlns=\"http://www.w3.org/2000/svg\" height=\"24px\" viewBox=\"0 -960 960 960\">\n",
              "    <path d=\"M120-120v-720h720v720H120Zm60-500h600v-160H180v160Zm220 220h160v-160H400v160Zm0 220h160v-160H400v160ZM180-400h160v-160H180v160Zm440 0h160v-160H620v160ZM180-180h160v-160H180v160Zm440 0h160v-160H620v160Z\"/>\n",
              "  </svg>\n",
              "    </button>\n",
              "\n",
              "  <style>\n",
              "    .colab-df-container {\n",
              "      display:flex;\n",
              "      gap: 12px;\n",
              "    }\n",
              "\n",
              "    .colab-df-convert {\n",
              "      background-color: #E8F0FE;\n",
              "      border: none;\n",
              "      border-radius: 50%;\n",
              "      cursor: pointer;\n",
              "      display: none;\n",
              "      fill: #1967D2;\n",
              "      height: 32px;\n",
              "      padding: 0 0 0 0;\n",
              "      width: 32px;\n",
              "    }\n",
              "\n",
              "    .colab-df-convert:hover {\n",
              "      background-color: #E2EBFA;\n",
              "      box-shadow: 0px 1px 2px rgba(60, 64, 67, 0.3), 0px 1px 3px 1px rgba(60, 64, 67, 0.15);\n",
              "      fill: #174EA6;\n",
              "    }\n",
              "\n",
              "    .colab-df-buttons div {\n",
              "      margin-bottom: 4px;\n",
              "    }\n",
              "\n",
              "    [theme=dark] .colab-df-convert {\n",
              "      background-color: #3B4455;\n",
              "      fill: #D2E3FC;\n",
              "    }\n",
              "\n",
              "    [theme=dark] .colab-df-convert:hover {\n",
              "      background-color: #434B5C;\n",
              "      box-shadow: 0px 1px 3px 1px rgba(0, 0, 0, 0.15);\n",
              "      filter: drop-shadow(0px 1px 2px rgba(0, 0, 0, 0.3));\n",
              "      fill: #FFFFFF;\n",
              "    }\n",
              "  </style>\n",
              "\n",
              "    <script>\n",
              "      const buttonEl =\n",
              "        document.querySelector('#df-b9f46bec-af7e-48c8-ac7d-26eedfea71dd button.colab-df-convert');\n",
              "      buttonEl.style.display =\n",
              "        google.colab.kernel.accessAllowed ? 'block' : 'none';\n",
              "\n",
              "      async function convertToInteractive(key) {\n",
              "        const element = document.querySelector('#df-b9f46bec-af7e-48c8-ac7d-26eedfea71dd');\n",
              "        const dataTable =\n",
              "          await google.colab.kernel.invokeFunction('convertToInteractive',\n",
              "                                                    [key], {});\n",
              "        if (!dataTable) return;\n",
              "\n",
              "        const docLinkHtml = 'Like what you see? Visit the ' +\n",
              "          '<a target=\"_blank\" href=https://colab.research.google.com/notebooks/data_table.ipynb>data table notebook</a>'\n",
              "          + ' to learn more about interactive tables.';\n",
              "        element.innerHTML = '';\n",
              "        dataTable['output_type'] = 'display_data';\n",
              "        await google.colab.output.renderOutput(dataTable, element);\n",
              "        const docLink = document.createElement('div');\n",
              "        docLink.innerHTML = docLinkHtml;\n",
              "        element.appendChild(docLink);\n",
              "      }\n",
              "    </script>\n",
              "  </div>\n",
              "\n",
              "\n",
              "    <div id=\"df-f7ab2a04-58c4-473c-8419-80826007ac0a\">\n",
              "      <button class=\"colab-df-quickchart\" onclick=\"quickchart('df-f7ab2a04-58c4-473c-8419-80826007ac0a')\"\n",
              "                title=\"Suggest charts\"\n",
              "                style=\"display:none;\">\n",
              "\n",
              "<svg xmlns=\"http://www.w3.org/2000/svg\" height=\"24px\"viewBox=\"0 0 24 24\"\n",
              "     width=\"24px\">\n",
              "    <g>\n",
              "        <path d=\"M19 3H5c-1.1 0-2 .9-2 2v14c0 1.1.9 2 2 2h14c1.1 0 2-.9 2-2V5c0-1.1-.9-2-2-2zM9 17H7v-7h2v7zm4 0h-2V7h2v10zm4 0h-2v-4h2v4z\"/>\n",
              "    </g>\n",
              "</svg>\n",
              "      </button>\n",
              "\n",
              "<style>\n",
              "  .colab-df-quickchart {\n",
              "      --bg-color: #E8F0FE;\n",
              "      --fill-color: #1967D2;\n",
              "      --hover-bg-color: #E2EBFA;\n",
              "      --hover-fill-color: #174EA6;\n",
              "      --disabled-fill-color: #AAA;\n",
              "      --disabled-bg-color: #DDD;\n",
              "  }\n",
              "\n",
              "  [theme=dark] .colab-df-quickchart {\n",
              "      --bg-color: #3B4455;\n",
              "      --fill-color: #D2E3FC;\n",
              "      --hover-bg-color: #434B5C;\n",
              "      --hover-fill-color: #FFFFFF;\n",
              "      --disabled-bg-color: #3B4455;\n",
              "      --disabled-fill-color: #666;\n",
              "  }\n",
              "\n",
              "  .colab-df-quickchart {\n",
              "    background-color: var(--bg-color);\n",
              "    border: none;\n",
              "    border-radius: 50%;\n",
              "    cursor: pointer;\n",
              "    display: none;\n",
              "    fill: var(--fill-color);\n",
              "    height: 32px;\n",
              "    padding: 0;\n",
              "    width: 32px;\n",
              "  }\n",
              "\n",
              "  .colab-df-quickchart:hover {\n",
              "    background-color: var(--hover-bg-color);\n",
              "    box-shadow: 0 1px 2px rgba(60, 64, 67, 0.3), 0 1px 3px 1px rgba(60, 64, 67, 0.15);\n",
              "    fill: var(--button-hover-fill-color);\n",
              "  }\n",
              "\n",
              "  .colab-df-quickchart-complete:disabled,\n",
              "  .colab-df-quickchart-complete:disabled:hover {\n",
              "    background-color: var(--disabled-bg-color);\n",
              "    fill: var(--disabled-fill-color);\n",
              "    box-shadow: none;\n",
              "  }\n",
              "\n",
              "  .colab-df-spinner {\n",
              "    border: 2px solid var(--fill-color);\n",
              "    border-color: transparent;\n",
              "    border-bottom-color: var(--fill-color);\n",
              "    animation:\n",
              "      spin 1s steps(1) infinite;\n",
              "  }\n",
              "\n",
              "  @keyframes spin {\n",
              "    0% {\n",
              "      border-color: transparent;\n",
              "      border-bottom-color: var(--fill-color);\n",
              "      border-left-color: var(--fill-color);\n",
              "    }\n",
              "    20% {\n",
              "      border-color: transparent;\n",
              "      border-left-color: var(--fill-color);\n",
              "      border-top-color: var(--fill-color);\n",
              "    }\n",
              "    30% {\n",
              "      border-color: transparent;\n",
              "      border-left-color: var(--fill-color);\n",
              "      border-top-color: var(--fill-color);\n",
              "      border-right-color: var(--fill-color);\n",
              "    }\n",
              "    40% {\n",
              "      border-color: transparent;\n",
              "      border-right-color: var(--fill-color);\n",
              "      border-top-color: var(--fill-color);\n",
              "    }\n",
              "    60% {\n",
              "      border-color: transparent;\n",
              "      border-right-color: var(--fill-color);\n",
              "    }\n",
              "    80% {\n",
              "      border-color: transparent;\n",
              "      border-right-color: var(--fill-color);\n",
              "      border-bottom-color: var(--fill-color);\n",
              "    }\n",
              "    90% {\n",
              "      border-color: transparent;\n",
              "      border-bottom-color: var(--fill-color);\n",
              "    }\n",
              "  }\n",
              "</style>\n",
              "\n",
              "      <script>\n",
              "        async function quickchart(key) {\n",
              "          const quickchartButtonEl =\n",
              "            document.querySelector('#' + key + ' button');\n",
              "          quickchartButtonEl.disabled = true;  // To prevent multiple clicks.\n",
              "          quickchartButtonEl.classList.add('colab-df-spinner');\n",
              "          try {\n",
              "            const charts = await google.colab.kernel.invokeFunction(\n",
              "                'suggestCharts', [key], {});\n",
              "          } catch (error) {\n",
              "            console.error('Error during call to suggestCharts:', error);\n",
              "          }\n",
              "          quickchartButtonEl.classList.remove('colab-df-spinner');\n",
              "          quickchartButtonEl.classList.add('colab-df-quickchart-complete');\n",
              "        }\n",
              "        (() => {\n",
              "          let quickchartButtonEl =\n",
              "            document.querySelector('#df-f7ab2a04-58c4-473c-8419-80826007ac0a button');\n",
              "          quickchartButtonEl.style.display =\n",
              "            google.colab.kernel.accessAllowed ? 'block' : 'none';\n",
              "        })();\n",
              "      </script>\n",
              "    </div>\n",
              "\n",
              "    </div>\n",
              "  </div>\n"
            ],
            "application/vnd.google.colaboratory.intrinsic+json": {
              "type": "dataframe",
              "summary": "{\n  \"name\": \"df\",\n  \"rows\": 4,\n  \"fields\": [\n    {\n      \"column\": \"T\\u00ean\",\n      \"properties\": {\n        \"dtype\": \"string\",\n        \"num_unique_values\": 4,\n        \"samples\": [\n          \"H\\u00e0\",\n          \"D\\u0169ng\",\n          \"An\"\n        ],\n        \"semantic_type\": \"\",\n        \"description\": \"\"\n      }\n    },\n    {\n      \"column\": \"Tu\\u1ed5i\",\n      \"properties\": {\n        \"dtype\": \"number\",\n        \"std\": 6,\n        \"min\": 20,\n        \"max\": 35,\n        \"num_unique_values\": 4,\n        \"samples\": [\n          25,\n          35,\n          20\n        ],\n        \"semantic_type\": \"\",\n        \"description\": \"\"\n      }\n    },\n    {\n      \"column\": \"Th\\u00e0nh ph\\u1ed1\",\n      \"properties\": {\n        \"dtype\": \"string\",\n        \"num_unique_values\": 4,\n        \"samples\": [\n          \"TP HCM\",\n          \"Hu\\u1ebf\",\n          \"H\\u00e0 N\\u1ed9i\"\n        ],\n        \"semantic_type\": \"\",\n        \"description\": \"\"\n      }\n    }\n  ]\n}"
            }
          },
          "metadata": {},
          "execution_count": 57
        }
      ]
    },
    {
      "cell_type": "code",
      "source": [
        "age_range = df.query('25 <= Tuổi <= 35')\n",
        "print(age_range)"
      ],
      "metadata": {
        "colab": {
          "base_uri": "https://localhost:8080/"
        },
        "id": "mLYhEbsLhNVz",
        "outputId": "8342b877-89ff-4560-ff21-c4b7f1406691"
      },
      "execution_count": 58,
      "outputs": [
        {
          "output_type": "stream",
          "name": "stdout",
          "text": [
            "     Tên  Tuổi  Thành phố\n",
            "1     Hà    25     TP HCM\n",
            "2  Trung    30  Nha Trang\n",
            "3   Dũng    35        Huế\n"
          ]
        }
      ]
    },
    {
      "cell_type": "code",
      "source": [
        "# Chọn những người có tên bắt đầu bằng chữ 'B'\n",
        "name_starts_with_b = df.query('Tên.str.startswith(\"B\")')\n",
        "print(name_starts_with_b)"
      ],
      "metadata": {
        "colab": {
          "base_uri": "https://localhost:8080/"
        },
        "id": "otouYNFDhWJx",
        "outputId": "5d78aacc-eb3f-4725-fbcf-672ecb8c1855"
      },
      "execution_count": 59,
      "outputs": [
        {
          "output_type": "stream",
          "name": "stdout",
          "text": [
            "Empty DataFrame\n",
            "Columns: [Tên, Tuổi, Thành phố]\n",
            "Index: []\n"
          ]
        }
      ]
    },
    {
      "cell_type": "code",
      "source": [
        "# Chọn những người có tuổi trên 25 và sống tại Nha Trang\n",
        "over_25_and_in_nt = df[df['Tuổi'] > 25 & (df['Thành phố'] == 'Nha Trang')]\n",
        "print(over_25_and_in_nt)"
      ],
      "metadata": {
        "colab": {
          "base_uri": "https://localhost:8080/"
        },
        "id": "1XAHOPCmhtxk",
        "outputId": "35c1315a-f08b-4a47-de55-8354bdbcd144"
      },
      "execution_count": 62,
      "outputs": [
        {
          "output_type": "stream",
          "name": "stdout",
          "text": [
            "     Tên  Tuổi  Thành phố\n",
            "0     An    20     Hà Nội\n",
            "1     Hà    25     TP HCM\n",
            "2  Trung    30  Nha Trang\n",
            "3   Dũng    35        Huế\n"
          ]
        }
      ]
    }
  ]
}